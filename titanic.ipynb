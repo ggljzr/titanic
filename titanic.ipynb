{
 "cells": [
  {
   "cell_type": "code",
   "execution_count": 41,
   "metadata": {
    "collapsed": false
   },
   "outputs": [],
   "source": [
    "import numpy\n",
    "import pandas\n",
    "import matplotlib.pyplot\n",
    "import matplotlib.style\n",
    "matplotlib.style.use('ggplot')\n",
    "\n",
    "%matplotlib inline"
   ]
  },
  {
   "cell_type": "code",
   "execution_count": 2,
   "metadata": {
    "collapsed": false
   },
   "outputs": [],
   "source": [
    "titanic_data =  pandas.read_csv('Titanic.csv', index_col=None)"
   ]
  },
  {
   "cell_type": "markdown",
   "metadata": {},
   "source": [
    "How many passengers we know?"
   ]
  },
  {
   "cell_type": "code",
   "execution_count": 3,
   "metadata": {
    "collapsed": false
   },
   "outputs": [
    {
     "name": "stdout",
     "output_type": "stream",
     "text": [
      "1313\n"
     ]
    }
   ],
   "source": [
    "passengers_num = titanic_data.shape[0] #rows in Titanic.csv table\n",
    "print(passengers_num)"
   ]
  },
  {
   "cell_type": "markdown",
   "metadata": {},
   "source": [
    "How many of them survived?"
   ]
  },
  {
   "cell_type": "code",
   "execution_count": 5,
   "metadata": {
    "collapsed": false
   },
   "outputs": [
    {
     "name": "stdout",
     "output_type": "stream",
     "text": [
      "450 out of 1313 (~34.27266 %)\n"
     ]
    }
   ],
   "source": [
    "survived = titanic_data[titanic_data.loc[:, 'Survived'] == True] #rows from Titanic.csv, column 'Survived'\n",
    "survived_num = survived.shape[0] #number of rows with 1\n",
    "survived_percent = survived_num / (passengers_num / 100)\n",
    "print('{} out of {} (~{:.5f} %)'.format(survived_num, passengers_num, survived_percent))"
   ]
  },
  {
   "cell_type": "markdown",
   "metadata": {},
   "source": [
    "How many men survived? How many women?"
   ]
  },
  {
   "cell_type": "code",
   "execution_count": 6,
   "metadata": {
    "collapsed": false
   },
   "outputs": [
    {
     "name": "stdout",
     "output_type": "stream",
     "text": [
      "Men survived: 142 out of 851 (~16.68625 %)\n",
      "Women survived: 308 out of 462 (~66.66667 %)\n"
     ]
    }
   ],
   "source": [
    "men = titanic_data[titanic_data.loc[:, 'Sex'] == 'male']\n",
    "men_num = men.shape[0]\n",
    "women_num = passengers_num - men_num\n",
    "\n",
    "men_survived = men[men.loc[:, 'Survived'] == True]\n",
    "men_survived_num = men_survived.shape[0]\n",
    "women_survived_num = survived_num - men_survived_num\n",
    "\n",
    "men_survived_percent = men_survived_num / (men_num / 100)\n",
    "women_survived_percent = women_survived_num / (women_num / 100)\n",
    "\n",
    "print('Men survived: {} out of {} (~{:.5f} %)'.format(men_survived_num, men_num, men_survived_percent))\n",
    "print('Women survived: {} out of {} (~{:.5f} %)'.format(women_survived_num, women_num, women_survived_percent))"
   ]
  },
  {
   "cell_type": "markdown",
   "metadata": {},
   "source": [
    "Stats for each class:"
   ]
  },
  {
   "cell_type": "code",
   "execution_count": 7,
   "metadata": {
    "collapsed": false
   },
   "outputs": [
    {
     "data": {
      "text/html": [
       "<div>\n",
       "<table border=\"1\" class=\"dataframe\">\n",
       "  <thead>\n",
       "    <tr style=\"text-align: right;\">\n",
       "      <th></th>\n",
       "      <th>class</th>\n",
       "      <th>survived</th>\n",
       "      <th>deceased</th>\n",
       "      <th>total</th>\n",
       "      <th>percent</th>\n",
       "    </tr>\n",
       "  </thead>\n",
       "  <tbody>\n",
       "    <tr>\n",
       "      <th>0</th>\n",
       "      <td>1st</td>\n",
       "      <td>193</td>\n",
       "      <td>129</td>\n",
       "      <td>322</td>\n",
       "      <td>59.937888</td>\n",
       "    </tr>\n",
       "    <tr>\n",
       "      <th>1</th>\n",
       "      <td>2nd</td>\n",
       "      <td>119</td>\n",
       "      <td>160</td>\n",
       "      <td>279</td>\n",
       "      <td>42.652330</td>\n",
       "    </tr>\n",
       "    <tr>\n",
       "      <th>2</th>\n",
       "      <td>*</td>\n",
       "      <td>0</td>\n",
       "      <td>1</td>\n",
       "      <td>1</td>\n",
       "      <td>0.000000</td>\n",
       "    </tr>\n",
       "    <tr>\n",
       "      <th>3</th>\n",
       "      <td>3rd</td>\n",
       "      <td>138</td>\n",
       "      <td>573</td>\n",
       "      <td>711</td>\n",
       "      <td>19.409283</td>\n",
       "    </tr>\n",
       "  </tbody>\n",
       "</table>\n",
       "</div>"
      ],
      "text/plain": [
       "  class  survived  deceased  total    percent\n",
       "0   1st       193       129    322  59.937888\n",
       "1   2nd       119       160    279  42.652330\n",
       "2     *         0         1      1   0.000000\n",
       "3   3rd       138       573    711  19.409283"
      ]
     },
     "execution_count": 7,
     "metadata": {},
     "output_type": "execute_result"
    }
   ],
   "source": [
    "classes = titanic_data.PClass.unique()\n",
    "cols = ['class', 'survived', 'deceased', 'total', 'percent']\n",
    "classes_data = pandas.DataFrame()\n",
    "\n",
    "for cls in classes:\n",
    "    total = titanic_data[titanic_data.loc[:, 'PClass'] == cls]\n",
    "    total_num = total.shape[0]\n",
    "    \n",
    "    survived = total[total.loc[:, 'Survived'] == True]\n",
    "    survived_num = survived.shape[0]\n",
    "    deceased_num = total_num - survived_num\n",
    "    \n",
    "    percent = survived_num / (total_num / 100)\n",
    "    row = pandas.DataFrame([{'class' : cls, 'survived' : survived_num, \n",
    "                         'deceased' : deceased_num, 'total' : total_num, \n",
    "                         'percent' : percent}], columns=cols)\n",
    "    classes_data = classes_data.append(row, ignore_index=True)\n",
    "\n",
    "classes_data"
   ]
  },
  {
   "cell_type": "markdown",
   "metadata": {},
   "source": [
    "Survival rate based on age:"
   ]
  },
  {
   "cell_type": "code",
   "execution_count": 13,
   "metadata": {
    "collapsed": false
   },
   "outputs": [
    {
     "data": {
      "text/html": [
       "<div>\n",
       "<table border=\"1\" class=\"dataframe\">\n",
       "  <thead>\n",
       "    <tr style=\"text-align: right;\">\n",
       "      <th></th>\n",
       "      <th>decade</th>\n",
       "      <th>survived</th>\n",
       "      <th>total</th>\n",
       "    </tr>\n",
       "  </thead>\n",
       "  <tbody>\n",
       "    <tr>\n",
       "      <th>0</th>\n",
       "      <td>0-9</td>\n",
       "      <td>37.0</td>\n",
       "      <td>53.0</td>\n",
       "    </tr>\n",
       "    <tr>\n",
       "      <th>1</th>\n",
       "      <td>10-19</td>\n",
       "      <td>44.0</td>\n",
       "      <td>96.0</td>\n",
       "    </tr>\n",
       "    <tr>\n",
       "      <th>2</th>\n",
       "      <td>20-29</td>\n",
       "      <td>84.0</td>\n",
       "      <td>252.0</td>\n",
       "    </tr>\n",
       "    <tr>\n",
       "      <th>3</th>\n",
       "      <td>30-39</td>\n",
       "      <td>70.0</td>\n",
       "      <td>168.0</td>\n",
       "    </tr>\n",
       "    <tr>\n",
       "      <th>4</th>\n",
       "      <td>40-49</td>\n",
       "      <td>43.0</td>\n",
       "      <td>106.0</td>\n",
       "    </tr>\n",
       "    <tr>\n",
       "      <th>5</th>\n",
       "      <td>50-59</td>\n",
       "      <td>26.0</td>\n",
       "      <td>54.0</td>\n",
       "    </tr>\n",
       "    <tr>\n",
       "      <th>6</th>\n",
       "      <td>60-69</td>\n",
       "      <td>9.0</td>\n",
       "      <td>23.0</td>\n",
       "    </tr>\n",
       "    <tr>\n",
       "      <th>7</th>\n",
       "      <td>70-79</td>\n",
       "      <td>0.0</td>\n",
       "      <td>4.0</td>\n",
       "    </tr>\n",
       "    <tr>\n",
       "      <th>8</th>\n",
       "      <td>No age data</td>\n",
       "      <td>137.0</td>\n",
       "      <td>557.0</td>\n",
       "    </tr>\n",
       "  </tbody>\n",
       "</table>\n",
       "</div>"
      ],
      "text/plain": [
       "        decade  survived  total\n",
       "0          0-9      37.0   53.0\n",
       "1        10-19      44.0   96.0\n",
       "2        20-29      84.0  252.0\n",
       "3        30-39      70.0  168.0\n",
       "4        40-49      43.0  106.0\n",
       "5        50-59      26.0   54.0\n",
       "6        60-69       9.0   23.0\n",
       "7        70-79       0.0    4.0\n",
       "8  No age data     137.0  557.0"
      ]
     },
     "execution_count": 13,
     "metadata": {},
     "output_type": "execute_result"
    }
   ],
   "source": [
    "max_age = titanic_data.loc[:, 'Age'].max()\n",
    "survived_ages = pandas.DataFrame(columns=['decade', 'survived', 'total'])\n",
    "for decade in range(0,int(max_age),10):\n",
    "    total_decade = titanic_data[(titanic_data.loc[:, 'Age'] >= decade) &\n",
    "                                   (titanic_data.loc[:, 'Age'] <  decade + 10)]\n",
    "    \n",
    "    survived_decade = total_decade[total_decade.loc[:, 'Survived'] == True]\n",
    "    \n",
    "    row = pandas.DataFrame([{'decade' : '{}-{}'.format(decade, decade + 9), \n",
    "                             'survived' : survived_decade.shape[0], \n",
    "                             'total' : total_decade.shape[0]}])\n",
    "    \n",
    "    survived_ages = survived_ages.append(row, ignore_index=True)\n",
    "\n",
    "total_na = titanic_data[titanic_data.loc[:, 'Age'].isnull()]\n",
    "survived_na = total_na[total_na.loc[:, 'Survived'] == True]\n",
    "\n",
    "row = pandas.DataFrame([{'decade' : 'No age data', \n",
    "                         'survived' : survived_na.shape[0], \n",
    "                         'total' : total_na.shape[0]}])\n",
    "\n",
    "survived_ages = survived_ages.append(row, ignore_index=True)\n",
    "\n",
    "survived_ages"
   ]
  },
  {
   "cell_type": "code",
   "execution_count": 59,
   "metadata": {
    "collapsed": false
   },
   "outputs": [
    {
     "data": {
      "image/png": "[encoded data removed]",
      "text/plain": [
       "<matplotlib.figure.Figure at 0x7f77400a89b0>"
      ]
     },
     "metadata": {},
     "output_type": "display_data"
    }
   ],
   "source": [
    "survived_ages['total'].plot.bar(color='r')\n",
    "survived_ages['survived'].plot.bar(color='b')\n",
    "\n",
    "matplotlib.pyplot.legend(loc='upper left')\n",
    "matplotlib.pyplot.xticks(list(range(len(survived_ages))), survived_ages['decade'].values, rotation = 'vertical')\n",
    "matplotlib.pyplot.show()"
   ]
  },
  {
   "cell_type": "code",
   "execution_count": null,
   "metadata": {
    "collapsed": true
   },
   "outputs": [],
   "source": []
  }
 ],
 "metadata": {
  "kernelspec": {
   "display_name": "Python 3",
   "language": "python",
   "name": "python3"
  },
  "language_info": {
   "codemirror_mode": {
    "name": "ipython",
    "version": 3
   },
   "file_extension": ".py",
   "mimetype": "text/x-python",
   "name": "python",
   "nbconvert_exporter": "python",
   "pygments_lexer": "ipython3",
   "version": "3.5.2"
  }
 },
 "nbformat": 4,
 "nbformat_minor": 1
}
